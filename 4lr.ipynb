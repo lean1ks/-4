{
 "cells": [
  {
   "cell_type": "code",
   "execution_count": 26,
   "id": "a46f3344",
   "metadata": {},
   "outputs": [
    {
     "name": "stdout",
     "output_type": "stream",
     "text": [
      "[5, 8, 5, 6, 3, 6, 7, 4, 9, 6]\n"
     ]
    }
   ],
   "source": [
    "import random\n",
    "import pandas as pd\n",
    "import matplotlib.pyplot as plt\n",
    "rand_list=[]\n",
    "n=10\n",
    "for i in range(n):\n",
    "    rand_list.append(random.randint(3,9))\n",
    "print(rand_list)"
   ]
  },
  {
   "cell_type": "code",
   "execution_count": 27,
   "id": "31c26d78",
   "metadata": {},
   "outputs": [
    {
     "name": "stdout",
     "output_type": "stream",
     "text": [
      "Random number list is : [11, 8, 1, 47, 27, 42, 22]\n"
     ]
    }
   ],
   "source": [
    "import random\n",
    "\n",
    "# using random.sample()\n",
    "# to generate random number list\n",
    "res = random.sample(range(1, 50), 7)\n",
    "\n",
    "# printing result\n",
    "print (\"Random number list is : \" + str(res))"
   ]
  },
  {
   "cell_type": "code",
   "execution_count": 28,
   "id": "80ffaf06",
   "metadata": {},
   "outputs": [
    {
     "name": "stdout",
     "output_type": "stream",
     "text": [
      "Random number list is : [41, 46, 19, 37, 43, 33, 15]\n"
     ]
    }
   ],
   "source": [
    "import random\n",
    "\n",
    "# using list comprehension + randrange() \n",
    "# to generate random number list\n",
    "res = [random.randrange(1, 50, 1) for i in range(7)]\n",
    "\n",
    "# printing result\n",
    "print (\"Random number list is : \" + str(res))"
   ]
  },
  {
   "cell_type": "code",
   "execution_count": 29,
   "id": "191f5122",
   "metadata": {},
   "outputs": [
    {
     "name": "stdout",
     "output_type": "stream",
     "text": [
      "[31, 26, 17, 46, 34, 42, 6, 41, 11, 47]\n"
     ]
    }
   ],
   "source": [
    "# Method 3: For Loop Random Int List [0, 51]\n",
    "import random\n",
    "lis = []\n",
    "for _ in range(10):\n",
    "\tlis.append(random.randint(0, 51))\n",
    "print(lis)"
   ]
  },
  {
   "cell_type": "code",
   "execution_count": 30,
   "id": "412e097b",
   "metadata": {},
   "outputs": [
    {
     "name": "stdout",
     "output_type": "stream",
     "text": [
      "[3, 3, 6, 4, 3, 4, 5, 4, 6, 7]\n",
      "[1, 1, 2, 1, 2]\n"
     ]
    }
   ],
   "source": [
    "# importing numpy module\n",
    "import numpy as np\n",
    "\n",
    "# print the list of 10 integers from 3 to 7 \n",
    "print(list(np.random.randint(low = 3,high=8,size=10)))\n",
    "\n",
    "# print the list of 5 integers from 0 to 2\n",
    "# if high parameter is not passed during \n",
    "# function call then results are from [0, low)\n",
    "print(list(np.random.randint(low = 3,size=5)))"
   ]
  },
  {
   "cell_type": "code",
   "execution_count": 31,
   "id": "78a69381",
   "metadata": {},
   "outputs": [
    {
     "name": "stdout",
     "output_type": "stream",
     "text": [
      "[0.94708002 0.44090858 0.38317233 0.7941839 ]\n",
      "[[0.73536025 0.39796444 0.78500058 0.59246544]\n",
      " [0.76000022 0.59119802 0.60527947 0.45658582]\n",
      " [0.11161668 0.72176072 0.67403369 0.80270173]\n",
      " [0.76647601 0.36194084 0.23608477 0.14400826]]\n"
     ]
    }
   ],
   "source": [
    "import numpy as np\n",
    "\n",
    "# generates list of 4 float values\n",
    "print(np.random.random_sample(size = 4))\n",
    "\n",
    "# generates 2d list of 4*4\n",
    "print(np.random.random_sample(size = (4,4)))"
   ]
  },
  {
   "cell_type": "code",
   "execution_count": 32,
   "id": "09b5d444",
   "metadata": {},
   "outputs": [
    {
     "name": "stdout",
     "output_type": "stream",
     "text": [
      "[5, 6, 2, 2, 3, 4, 1, 1, 3, 6, 6, 3, 3, 5, 2, 2, 6, 2, 2, 4, 6, 1, 1, 4, 4, 6, 6, 3, 4, 2, 5, 5, 1, 3, 3, 6, 5, 5, 5, 6, 6, 3, 4, 3, 2, 3, 2, 1, 4, 1, 6, 2, 6, 4, 5, 6, 6, 2, 5, 6, 4, 4, 5, 6, 6, 4, 4, 5, 1, 2, 6, 3, 4, 6, 4, 1, 5, 5, 4, 3, 5, 6, 1, 3, 1, 5, 3, 4, 1, 5, 3, 1, 6, 1, 6, 6, 3, 1, 6, 6]\n"
     ]
    }
   ],
   "source": [
    "import random\n",
    "def kubik(n: int) -> list:\n",
    "    data = []\n",
    "    while len(data) < n:\n",
    "        data.append(random.randint(1, 6))\n",
    "    return data\n",
    "print(kubik(100))"
   ]
  },
  {
   "cell_type": "code",
   "execution_count": 33,
   "id": "6a375811",
   "metadata": {},
   "outputs": [
    {
     "data": {
      "text/plain": [
       "<Axes: >"
      ]
     },
     "execution_count": 33,
     "metadata": {},
     "output_type": "execute_result"
    },
    {
     "data": {
      "image/png": "[encoded data removed]",
      "text/plain": [
       "<Figure size 640x480 with 1 Axes>"
      ]
     },
     "metadata": {},
     "output_type": "display_data"
    }
   ],
   "source": [
    "def kubik(n: int) -> list:\n",
    "    data = []\n",
    "    while len(data) < n:\n",
    "        data.append(random.randint(1, 6))\n",
    "    return data\n",
    "\n",
    "def count_rate(kub_data: list):\n",
    "\n",
    "    kub_rate = {}\n",
    "    for i in kub_data:\n",
    "        if i in kub_rate:\n",
    "            continue\n",
    "        else:\n",
    "            kub_rate[i] = kub_data.count(i)\n",
    "    for i in range(1, 7):\n",
    "        if i not in kub_rate:\n",
    "            kub_rate[i] = 0\n",
    "    return kub_rate\n",
    "\n",
    "def sort_rate(counted_rate: dict):\n",
    "    sorted_rate = {}\n",
    "    for key in sorted(counted_rate.keys()):\n",
    "        sorted_rate[key] = counted_rate[key]\n",
    "    return sorted_rate\n",
    "\n",
    "def crate_dataframe(sorted_date: dict):\n",
    "    df = pd.DataFrame(sorted_date, index=[0])\n",
    "    df = df.T\n",
    "    df = df.rename(columns={0: 'Частота'})\n",
    "    df.insert(0, 'Количество выпаданий', range(1, 1 + len(df)))\n",
    "    return df\n",
    "def probability_solving(dataframe: pd.DataFrame):\n",
    "    sum_rate = dataframe['Частота'].sum()\n",
    "    probability = []\n",
    "    for i in dataframe['Частота']:\n",
    "        probability.append(i / sum_rate)\n",
    "    dataframe['Вероятность'] = probability\n",
    "    return dataframe\n",
    "data = probability_solving(crate_dataframe(sort_rate(count_rate(kubik(100)))))\n",
    "data['Вероятность'].plot(kind='bar', legend=True)"
   ]
  },
  {
   "cell_type": "code",
   "execution_count": 34,
   "id": "b1a7a8e2",
   "metadata": {},
   "outputs": [
    {
     "name": "stdout",
     "output_type": "stream",
     "text": [
      "   Количество выпаданий  Частота  Вероятность\n",
      "1                     1      164        0.164\n",
      "2                     2      165        0.165\n",
      "3                     3      164        0.164\n",
      "4                     4      174        0.174\n",
      "5                     5      172        0.172\n",
      "6                     6      161        0.161\n"
     ]
    }
   ],
   "source": [
    "def kubik(n: int) -> list:\n",
    "    data = []\n",
    "    while len(data) < n:\n",
    "        data.append(random.randint(1, 6))\n",
    "    return data\n",
    "def count_rate(kub_data: list):\n",
    "\n",
    "    kub_rate = {}\n",
    "    for i in kub_data:\n",
    "        if i in kub_rate:\n",
    "            continue\n",
    "        else:\n",
    "            kub_rate[i] = kub_data.count(i)\n",
    "    for i in range(1, 7):\n",
    "        if i not in kub_rate:\n",
    "            kub_rate[i] = 0\n",
    "    return kub_rate\n",
    "def sort_rate(counted_rate: dict):\n",
    "    sorted_rate = {}\n",
    "    for key in sorted(counted_rate.keys()):\n",
    "        sorted_rate[key] = counted_rate[key]\n",
    "    return sorted_rate\n",
    "def crate_dataframe(sorted_date: dict):\n",
    "    df = pd.DataFrame(sorted_date, index=[0])\n",
    "    df = df.T\n",
    "    df = df.rename(columns={0: 'Частота'})\n",
    "    df.insert(0, 'Количество выпаданий', range(1, 1 + len(df)))\n",
    "    return df\n",
    "def probability_solving(dataframe: pd.DataFrame):\n",
    "    sum_rate = dataframe['Частота'].sum()\n",
    "    probability = []\n",
    "    for i in dataframe['Частота']:\n",
    "        probability.append(i / sum_rate)\n",
    "    dataframe['Вероятность'] = probability\n",
    "    return dataframe\n",
    "print(probability_solving(crate_dataframe(sort_rate(count_rate(kubik(1000))))))\n",
    "data2 = probability_solving(crate_dataframe(sort_rate(count_rate(kubik(1000)))))"
   ]
  },
  {
   "cell_type": "code",
   "execution_count": 44,
   "id": "cc97c066",
   "metadata": {},
   "outputs": [
    {
     "data": {
      "text/plain": [
       "<Axes: >"
      ]
     },
     "execution_count": 44,
     "metadata": {},
     "output_type": "execute_result"
    },
    {
     "data": {
      "image/png": "[encoded data removed]",
      "text/plain": [
       "<Figure size 640x480 with 1 Axes>"
      ]
     },
     "metadata": {},
     "output_type": "display_data"
    }
   ],
   "source": [
    "data2['Вероятность'].plot(kind='bar', legend=True, color='green')"
   ]
  },
  {
   "cell_type": "code",
   "execution_count": 36,
   "id": "fe93aff0",
   "metadata": {},
   "outputs": [
    {
     "name": "stdout",
     "output_type": "stream",
     "text": [
      "   Количество выпаданий  Частота  Вероятность\n",
      "1                     1     1576       0.1576\n",
      "2                     2     1746       0.1746\n",
      "3                     3     1704       0.1704\n",
      "4                     4     1613       0.1613\n",
      "5                     5     1707       0.1707\n",
      "6                     6     1654       0.1654\n"
     ]
    }
   ],
   "source": [
    "def kubik(n: int) -> list:\n",
    "    data = []\n",
    "    while len(data) < n:\n",
    "        data.append(random.randint(1, 6))\n",
    "    return data\n",
    "def count_rate(kub_data: list):\n",
    "\n",
    "    kub_rate = {}\n",
    "    for i in kub_data:\n",
    "        if i in kub_rate:\n",
    "            continue\n",
    "        else:\n",
    "            kub_rate[i] = kub_data.count(i)\n",
    "    for i in range(1, 7):\n",
    "        if i not in kub_rate:\n",
    "            kub_rate[i] = 0\n",
    "    return kub_rate\n",
    "def sort_rate(counted_rate: dict):\n",
    "    sorted_rate = {}\n",
    "    for key in sorted(counted_rate.keys()):\n",
    "        sorted_rate[key] = counted_rate[key]\n",
    "    return sorted_rate\n",
    "def crate_dataframe(sorted_date: dict):\n",
    "    df = pd.DataFrame(sorted_date, index=[0])\n",
    "    df = df.T\n",
    "    df = df.rename(columns={0: 'Частота'})\n",
    "    df.insert(0, 'Количество выпаданий', range(1, 1 + len(df)))\n",
    "    return df\n",
    "def probability_solving(dataframe: pd.DataFrame):\n",
    "    sum_rate = dataframe['Частота'].sum()\n",
    "    probability = []\n",
    "    for i in dataframe['Частота']:\n",
    "        probability.append(i / sum_rate)\n",
    "    dataframe['Вероятность'] = probability\n",
    "    return dataframe\n",
    "print(probability_solving(crate_dataframe(sort_rate(count_rate(kubik(10000))))))\n",
    "data3 = probability_solving(crate_dataframe(sort_rate(count_rate(kubik(10000)))))"
   ]
  },
  {
   "cell_type": "code",
   "execution_count": 42,
   "id": "55ba925f",
   "metadata": {},
   "outputs": [
    {
     "data": {
      "text/plain": [
       "<Axes: >"
      ]
     },
     "execution_count": 42,
     "metadata": {},
     "output_type": "execute_result"
    },
    {
     "data": {
      "image/png": "[encoded data removed]",
      "text/plain": [
       "<Figure size 640x480 with 1 Axes>"
      ]
     },
     "metadata": {},
     "output_type": "display_data"
    }
   ],
   "source": [
    "data3['Вероятность'].plot(kind='bar', legend=True, color='brown')"
   ]
  },
  {
   "cell_type": "code",
   "execution_count": 38,
   "id": "ba5a5e22",
   "metadata": {},
   "outputs": [
    {
     "name": "stdout",
     "output_type": "stream",
     "text": [
      "   Количество выпаданий  Частота  Вероятность\n",
      "1                     1   166653     0.166653\n",
      "2                     2   167269     0.167269\n",
      "3                     3   167084     0.167084\n",
      "4                     4   166335     0.166335\n",
      "5                     5   166828     0.166828\n",
      "6                     6   165831     0.165831\n"
     ]
    }
   ],
   "source": [
    "def kubik(n: int) -> list:\n",
    "    data = []\n",
    "    while len(data) < n:\n",
    "        data.append(random.randint(1, 6))\n",
    "    return data\n",
    "def count_rate(kub_data: list):\n",
    "\n",
    "    kub_rate = {}\n",
    "    for i in kub_data:\n",
    "        if i in kub_rate:\n",
    "            continue\n",
    "        else:\n",
    "            kub_rate[i] = kub_data.count(i)\n",
    "    for i in range(1, 7):\n",
    "        if i not in kub_rate:\n",
    "            kub_rate[i] = 0\n",
    "    return kub_rate\n",
    "def sort_rate(counted_rate: dict):\n",
    "    sorted_rate = {}\n",
    "    for key in sorted(counted_rate.keys()):\n",
    "        sorted_rate[key] = counted_rate[key]\n",
    "    return sorted_rate\n",
    "def crate_dataframe(sorted_date: dict):\n",
    "    df = pd.DataFrame(sorted_date, index=[0])\n",
    "    df = df.T\n",
    "    df = df.rename(columns={0: 'Частота'})\n",
    "    df.insert(0, 'Количество выпаданий', range(1, 1 + len(df)))\n",
    "    return df\n",
    "def probability_solving(dataframe: pd.DataFrame):\n",
    "    sum_rate = dataframe['Частота'].sum()\n",
    "    probability = []\n",
    "    for i in dataframe['Частота']:\n",
    "        probability.append(i / sum_rate)\n",
    "    dataframe['Вероятность'] = probability\n",
    "    return dataframe\n",
    "print(probability_solving(crate_dataframe(sort_rate(count_rate(kubik(1000000))))))\n",
    "data4 = probability_solving(crate_dataframe(sort_rate(count_rate(kubik(1000000)))))"
   ]
  },
  {
   "cell_type": "code",
   "execution_count": 41,
   "id": "7a72cb33",
   "metadata": {},
   "outputs": [
    {
     "data": {
      "text/plain": [
       "<Axes: >"
      ]
     },
     "execution_count": 41,
     "metadata": {},
     "output_type": "execute_result"
    },
    {
     "data": {
      "image/png": "[encoded data removed]",
      "text/plain": [
       "<Figure size 640x480 with 1 Axes>"
      ]
     },
     "metadata": {},
     "output_type": "display_data"
    }
   ],
   "source": [
    "data4['Вероятность'].plot(kind='bar', legend=True, color='orange')"
   ]
  },
  {
   "cell_type": "code",
   "execution_count": null,
   "id": "c3bec349",
   "metadata": {},
   "outputs": [],
   "source": []
  }
 ],
 "metadata": {
  "kernelspec": {
   "display_name": "Python 3 (ipykernel)",
   "language": "python",
   "name": "python3"
  },
  "language_info": {
   "codemirror_mode": {
    "name": "ipython",
    "version": 3
   },
   "file_extension": ".py",
   "mimetype": "text/x-python",
   "name": "python",
   "nbconvert_exporter": "python",
   "pygments_lexer": "ipython3",
   "version": "3.11.5"
  }
 },
 "nbformat": 4,
 "nbformat_minor": 5
}
